{
 "cells": [
  {
   "attachments": {},
   "cell_type": "markdown",
   "metadata": {},
   "source": [
    "![01.jpg](http://www.osdragisamisovic.edu.rs/images/Vulkan-GITHUB/01.jpg)"
   ]
  },
  {
   "attachments": {},
   "cell_type": "markdown",
   "metadata": {},
   "source": [
    "![02.jpg](http://www.osdragisamisovic.edu.rs/images/Vulkan-GITHUB/02.jpg)"
   ]
  },
  {
   "attachments": {},
   "cell_type": "markdown",
   "metadata": {},
   "source": [
    "![03.jpg](http://www.osdragisamisovic.edu.rs/images/Vulkan-GITHUB/03.jpg)"
   ]
  },
  {
   "attachments": {},
   "cell_type": "markdown",
   "metadata": {},
   "source": [
    "![04.jpg](http://www.osdragisamisovic.edu.rs/images/Vulkan-GITHUB/04.jpg)"
   ]
  },
  {
   "attachments": {},
   "cell_type": "markdown",
   "metadata": {},
   "source": [
    "![05.jpg](http://www.osdragisamisovic.edu.rs/images/Vulkan-GITHUB/05.jpg)"
   ]
  },
  {
   "attachments": {},
   "cell_type": "markdown",
   "metadata": {},
   "source": [
    "![06.jpg](http://www.osdragisamisovic.edu.rs/images/Vulkan-GITHUB/06.jpg)"
   ]
  },
  {
   "attachments": {},
   "cell_type": "markdown",
   "metadata": {},
   "source": [
    "![07.jpg](http://www.osdragisamisovic.edu.rs/images/Vulkan-GITHUB/07.jpg)"
   ]
  }
 ],
 "metadata": {
  "kernelspec": {
   "display_name": "Python 3",
   "language": "python",
   "name": "python3"
  },
  "language_info": {
   "codemirror_mode": {
    "name": "ipython",
    "version": 3
   },
   "file_extension": ".py",
   "mimetype": "text/x-python",
   "name": "python",
   "nbconvert_exporter": "python",
   "pygments_lexer": "ipython3",
   "version": "3.7.4"
  }
 },
 "nbformat": 4,
 "nbformat_minor": 2
}
